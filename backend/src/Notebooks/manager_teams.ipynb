{
 "cells": [
  {
   "cell_type": "code",
   "execution_count": 3,
   "metadata": {},
   "outputs": [],
   "source": [
    "import pandas as pd\n",
    "import json\n",
    "import yaml"
   ]
  },
  {
   "cell_type": "code",
   "execution_count": 18,
   "metadata": {},
   "outputs": [
    {
     "data": {
      "text/plain": [
       "{'crediti': 500,\n",
       " 'num_portieri': 3,\n",
       " 'num_difesori': 8,\n",
       " 'num_centrocampisti': 8,\n",
       " 'num_attaccanti': 6}"
      ]
     },
     "execution_count": 18,
     "metadata": {},
     "output_type": "execute_result"
    }
   ],
   "source": [
    "with open(\"../App/config/main_config.yaml\", 'r') as file:\n",
    "        main_config = yaml.safe_load(file)\n",
    "main_config"
   ]
  },
  {
   "cell_type": "code",
   "execution_count": 20,
   "metadata": {},
   "outputs": [
    {
     "name": "stdout",
     "output_type": "stream",
     "text": [
      "Il giocatore Buffon è stato acquistato dalla squadra Alberto.\n",
      "The new file was created successfully.\n",
      "Il giocatore Zaniolo è stato acquistato dalla squadra Alberto.\n",
      "The new file was created successfully.\n",
      "Il giocatore Retegui è stato acquistato dalla squadra Alberto.\n",
      "The new file was created successfully.\n",
      "Il giocatore Vlahovic è stato acquistato dalla squadra Alberto.\n",
      "The new file was created successfully.\n",
      "Il giocatore Lautaro è stato acquistato dalla squadra Alberto.\n",
      "The new file was created successfully.\n"
     ]
    }
   ],
   "source": [
    "import os\n",
    "\n",
    "with open(\"../App/config/managers.yaml\", 'r') as file:\n",
    "        config = yaml.safe_load(file)\n",
    "\n",
    "\n",
    "def max_bid(credits: int, free_slots: int):\n",
    "        return credits - (free_slots - 1)\n",
    "\n",
    "\n",
    "def acquista_giocatore(nome_giocatore, ruolo, squadra, prezzo):\n",
    "        if nome_giocatore in config['managers'][squadra]['Rosa'][ruolo]:\n",
    "                print(f\"Il giocatore {nome_giocatore} è già presente nella rosa della squadra {squadra}.\")\n",
    "        else:\n",
    "                config['managers'][squadra]['Rosa'][ruolo].append({nome_giocatore: {\"Price\": prezzo}})\n",
    "                config['managers'][squadra]['Crediti'] -= prezzo\n",
    "\n",
    "                config['managers'][squadra]['MassimoRilancio'] = max_bid(config['managers'][squadra]['Crediti'], len(config['managers'][squadra][\"Rosa\"][ruolo]))\n",
    "                print(f\"Il giocatore {nome_giocatore} è stato acquistato dalla squadra {squadra}.\")\n",
    "        \n",
    "        \n",
    "        # Define the path for the new file\n",
    "        new_file_path = \"../App/config/managers_new.yaml\"\n",
    "\n",
    "        # Save the config dictionary to the new file\n",
    "        with open(new_file_path, 'w') as file:\n",
    "                yaml.dump(config, file)\n",
    "\n",
    "        # Check if the new file was created successfully\n",
    "        if os.path.exists(new_file_path):\n",
    "                print(\"The new file was created successfully.\")\n",
    "        else:\n",
    "                print(\"Failed to create the new file.\")\n",
    "\n",
    "acquista_giocatore('Buffon', \"Portieri\", 'Alberto', 10)\n",
    "acquista_giocatore('Zaniolo', \"Centrocampisti\", 'Alberto', 10)\n",
    "acquista_giocatore('Retegui', \"Attaccanti\", 'Alberto', 10)\n",
    "acquista_giocatore('Vlahovic', \"Attaccanti\", 'Alberto', 10)\n",
    "acquista_giocatore('Lautaro', \"Attaccanti\", 'Alberto', 10)"
   ]
  },
  {
   "cell_type": "code",
   "execution_count": 16,
   "metadata": {},
   "outputs": [
    {
     "name": "stdout",
     "output_type": "stream",
     "text": [
      "{'managers': {'Alberto': {'Crediti': 470, 'Rosa': {'Portieri': [{'Buffon': {'Price': 10}}], 'Difensori': [], 'Centrocampisti': [{'Zaniolo': {'Price': 10}}], 'Attaccanti': [{'Retegui': {'Price': 10}}]}}, 'Antonio': {'Crediti': 500, 'Rosa': {'Portieri': [], 'Difensori': [], 'Centrocampisti': [], 'Attaccanti': []}}, 'Simone': {'Crediti': 500, 'Rosa': {'Portieri': [], 'Difensori': [], 'Centrocampisti': [], 'Attaccanti': []}}, 'Danilo': {'Crediti': 500, 'Rosa': {'Portieri': [], 'Difensori': [], 'Centrocampisti': [], 'Attaccanti': []}}, 'Orazio': {'Crediti': 500, 'Rosa': {'Portieri': [], 'Difensori': [], 'Centrocampisti': [], 'Attaccanti': []}}, 'Vigani': {'Crediti': 500, 'Rosa': {'Portieri': [], 'Difensori': [], 'Centrocampisti': [], 'Attaccanti': []}}, 'Lorenzo': {'Crediti': 500, 'Rosa': {'Portieri': [], 'Difensori': [], 'Centrocampisti': [], 'Attaccanti': []}}, 'Robi': {'Crediti': 500, 'Rosa': {'Portieri': [], 'Difensori': [], 'Centrocampisti': [], 'Attaccanti': []}}, 'Manu': {'Crediti': 500, 'Rosa': {'Portieri': [], 'Difensori': [], 'Centrocampisti': [], 'Attaccanti': []}}, 'Cris': {'Crediti': 500, 'Rosa': {'Portieri': [], 'Difensori': [], 'Centrocampisti': [], 'Attaccanti': []}}}}\n"
     ]
    }
   ],
   "source": [
    "print(config)"
   ]
  },
  {
   "cell_type": "code",
   "execution_count": null,
   "metadata": {},
   "outputs": [],
   "source": []
  }
 ],
 "metadata": {
  "kernelspec": {
   "display_name": "Python 3",
   "language": "python",
   "name": "python3"
  },
  "language_info": {
   "codemirror_mode": {
    "name": "ipython",
    "version": 3
   },
   "file_extension": ".py",
   "mimetype": "text/x-python",
   "name": "python",
   "nbconvert_exporter": "python",
   "pygments_lexer": "ipython3",
   "version": "3.9.19"
  }
 },
 "nbformat": 4,
 "nbformat_minor": 2
}
